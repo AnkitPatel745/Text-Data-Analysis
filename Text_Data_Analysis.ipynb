{
  "nbformat": 4,
  "nbformat_minor": 0,
  "metadata": {
    "colab": {
      "name": "Text Data Analysis.ipynb",
      "provenance": [],
      "authorship_tag": "ABX9TyPooa68x8twM/v2/Tr+omol",
      "include_colab_link": true
    },
    "kernelspec": {
      "name": "python3",
      "display_name": "Python 3"
    },
    "language_info": {
      "name": "python"
    }
  },
  "cells": [
    {
      "cell_type": "markdown",
      "metadata": {
        "id": "view-in-github",
        "colab_type": "text"
      },
      "source": [
        "<a href=\"https://colab.research.google.com/github/AnkitPatel745/Text-Data-Analysis/blob/Comment-Analysis/Text_Data_Analysis.ipynb\" target=\"_parent\"><img src=\"https://colab.research.google.com/assets/colab-badge.svg\" alt=\"Open In Colab\"/></a>"
      ]
    },
    {
      "cell_type": "code",
      "metadata": {
        "id": "IhtEYtm-V7V7"
      },
      "source": [
        "# improting reqired library\n",
        "import pandas as pd\n",
        "import numpy as np\n",
        "import matplotlib.pyplot as plt\n",
        "import seaborn as sn"
      ],
      "execution_count": 1,
      "outputs": []
    },
    {
      "cell_type": "code",
      "metadata": {
        "colab": {
          "base_uri": "https://localhost:8080/"
        },
        "id": "yU46s8EXWaq5",
        "outputId": "d930d16e-0e78-4d0a-d372-ee99fffc7799"
      },
      "source": [
        "from google.colab import drive\n",
        "drive.mount('/content/drive')"
      ],
      "execution_count": 2,
      "outputs": [
        {
          "output_type": "stream",
          "name": "stdout",
          "text": [
            "Mounted at /content/drive\n"
          ]
        }
      ]
    },
    {
      "cell_type": "code",
      "metadata": {
        "colab": {
          "base_uri": "https://localhost:8080/"
        },
        "id": "ymmOAEgSWnRQ",
        "outputId": "6858bd52-696f-4503-ec5e-0fa1bb2da888"
      },
      "source": [
        "# Read the file\n",
        "# Parse Error can be removed by (\"error_bad_lines\")\n",
        "comment = pd.read_csv('/content/drive/MyDrive/Data Science Project/EDA Projects/GBcomments.csv',error_bad_lines=False)"
      ],
      "execution_count": 3,
      "outputs": [
        {
          "output_type": "stream",
          "name": "stderr",
          "text": [
            "b'Skipping line 113225: expected 4 fields, saw 5\\n'\n",
            "b'Skipping line 158379: expected 4 fields, saw 7\\nSkipping line 241590: expected 4 fields, saw 5\\nSkipping line 245637: expected 4 fields, saw 7\\n'\n",
            "b'Skipping line 521402: expected 4 fields, saw 5\\n'\n"
          ]
        }
      ]
    }
  ]
}